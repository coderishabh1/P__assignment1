{
 "cells": [
  {
   "cell_type": "code",
   "execution_count": 1,
   "id": "e39b3c04",
   "metadata": {},
   "outputs": [
    {
     "name": "stdout",
     "output_type": "stream",
     "text": [
      "Hello Python\n"
     ]
    }
   ],
   "source": [
    "#Ans\n",
    "print ('Hello Python')"
   ]
  },
  {
   "cell_type": "code",
   "execution_count": 2,
   "id": "1a83b22c",
   "metadata": {},
   "outputs": [
    {
     "name": "stdout",
     "output_type": "stream",
     "text": [
      "2\n",
      "2\n",
      "4\n",
      "1.0\n"
     ]
    }
   ],
   "source": [
    "#Ans\n",
    "a=int(input())\n",
    "b=int(input())\n",
    "print (a+b)\n",
    "print (a/b)\n"
   ]
  },
  {
   "cell_type": "code",
   "execution_count": 4,
   "id": "d51899c2",
   "metadata": {},
   "outputs": [
    {
     "name": "stdout",
     "output_type": "stream",
     "text": [
      "2\n",
      "3\n",
      "area of the triange is 3.0\n"
     ]
    }
   ],
   "source": [
    "#Ans\n",
    "base=int(input())\n",
    "height=int(input())\n",
    "print ('area of the triange is',.5*base*height)"
   ]
  },
  {
   "cell_type": "code",
   "execution_count": 5,
   "id": "eeb19920",
   "metadata": {},
   "outputs": [
    {
     "name": "stdout",
     "output_type": "stream",
     "text": [
      "2\n",
      "3\n",
      "3\n",
      "2\n"
     ]
    }
   ],
   "source": [
    "#Ans\n",
    "a=int(input())\n",
    "b=int(input())\n",
    "a,b=b,a\n",
    "print(a)\n",
    "print(b)"
   ]
  },
  {
   "cell_type": "code",
   "execution_count": 12,
   "id": "620ddeb9",
   "metadata": {},
   "outputs": [
    {
     "name": "stdout",
     "output_type": "stream",
     "text": [
      "0.791295357899486\n"
     ]
    }
   ],
   "source": [
    "#Ans\n",
    "import random\n",
    "num= random.random()\n",
    "print(num)"
   ]
  },
  {
   "cell_type": "code",
   "execution_count": null,
   "id": "4687975d",
   "metadata": {},
   "outputs": [],
   "source": []
  },
  {
   "cell_type": "code",
   "execution_count": null,
   "id": "8d6f4988",
   "metadata": {},
   "outputs": [],
   "source": []
  },
  {
   "cell_type": "code",
   "execution_count": null,
   "id": "9437a178",
   "metadata": {},
   "outputs": [],
   "source": []
  }
 ],
 "metadata": {
  "kernelspec": {
   "display_name": "Python 3 (ipykernel)",
   "language": "python",
   "name": "python3"
  },
  "language_info": {
   "codemirror_mode": {
    "name": "ipython",
    "version": 3
   },
   "file_extension": ".py",
   "mimetype": "text/x-python",
   "name": "python",
   "nbconvert_exporter": "python",
   "pygments_lexer": "ipython3",
   "version": "3.9.12"
  }
 },
 "nbformat": 4,
 "nbformat_minor": 5
}
